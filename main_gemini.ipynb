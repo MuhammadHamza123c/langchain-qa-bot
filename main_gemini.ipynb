{
 "cells": [
  {
   "cell_type": "code",
   "execution_count": 11,
   "id": "f6829416",
   "metadata": {},
   "outputs": [
    {
     "name": "stdout",
     "output_type": "stream",
     "text": [
      "HARCODE_GEMINI\n"
     ]
    }
   ],
   "source": [
    "print(\"HARCODE_GEMINI\")"
   ]
  },
  {
   "cell_type": "code",
   "execution_count": 2,
   "id": "6db158ec",
   "metadata": {},
   "outputs": [
    {
     "data": {
      "text/plain": [
       "True"
      ]
     },
     "execution_count": 2,
     "metadata": {},
     "output_type": "execute_result"
    }
   ],
   "source": [
    "from langchain_google_genai import ChatGoogleGenerativeAI\n",
    "from dotenv import load_dotenv\n",
    "import os\n",
    "load_dotenv()"
   ]
  },
  {
   "cell_type": "code",
   "execution_count": 3,
   "id": "e4fa8de2",
   "metadata": {},
   "outputs": [],
   "source": [
    "GOOGLE_API_KEY=os.getenv(\"GOOGLE_API_KEY\")"
   ]
  },
  {
   "cell_type": "code",
   "execution_count": 4,
   "id": "c61cef4e",
   "metadata": {},
   "outputs": [],
   "source": [
    "llm=ChatGoogleGenerativeAI(model='gemini-2.5-flash',temperature=0.3)"
   ]
  },
  {
   "cell_type": "code",
   "execution_count": 5,
   "id": "6a3ffce9",
   "metadata": {},
   "outputs": [
    {
     "data": {
      "text/plain": [
       "\"I'm doing well, thank you for asking! As an AI, I don't have feelings or a physical state, but I'm fully operational and ready to assist you.\\n\\nHow are you doing today, and what can I help you with?\""
      ]
     },
     "execution_count": 5,
     "metadata": {},
     "output_type": "execute_result"
    }
   ],
   "source": [
    "llm.invoke(\"Hey, how are you\").content"
   ]
  },
  {
   "cell_type": "code",
   "execution_count": 6,
   "id": "31777e14",
   "metadata": {},
   "outputs": [],
   "source": [
    "from langchain.prompts import PromptTemplate\n",
    "template=\"Answer the following question clearly and concisely: {question}\"\n",
    "prompt=PromptTemplate(template=template,input_variables=['question'])\n"
   ]
  },
  {
   "cell_type": "code",
   "execution_count": 7,
   "id": "0bd403c1",
   "metadata": {},
   "outputs": [],
   "source": [
    "from langchain.chains import LLMChain\n"
   ]
  },
  {
   "cell_type": "code",
   "execution_count": 8,
   "id": "8473a493",
   "metadata": {},
   "outputs": [
    {
     "name": "stderr",
     "output_type": "stream",
     "text": [
      "C:\\Users\\HP\\AppData\\Local\\Temp\\ipykernel_1932\\2286740057.py:1: LangChainDeprecationWarning: The class `LLMChain` was deprecated in LangChain 0.1.17 and will be removed in 1.0. Use :meth:`~RunnableSequence, e.g., `prompt | llm`` instead.\n",
      "  bot=LLMChain(llm=llm,prompt=prompt)\n"
     ]
    }
   ],
   "source": [
    "bot=LLMChain(llm=llm,prompt=prompt)"
   ]
  },
  {
   "cell_type": "code",
   "execution_count": 9,
   "id": "f09bfce7",
   "metadata": {},
   "outputs": [],
   "source": [
    "questions = [\n",
    "    \"What is LangChain?\",\n",
    "    \"Who created Python?\",\n",
    "    \"What is AI?\"\n",
    "]"
   ]
  },
  {
   "cell_type": "code",
   "execution_count": 10,
   "id": "d038f1b4",
   "metadata": {},
   "outputs": [
    {
     "name": "stdout",
     "output_type": "stream",
     "text": [
      "===============\n",
      "LangChain is a framework designed to simplify the creation of applications powered by large language models (LLMs). It provides tools, components, and interfaces to chain together different LLM functionalities, external data sources, and computational steps, making it easier to build complex, context-aware, and interactive LLM-based systems.\n",
      "===============\n",
      "Guido van Rossum\n",
      "===============\n",
      "AI is the simulation of human intelligence processes by machines, especially computer systems.\n",
      "===============\n"
     ]
    }
   ],
   "source": [
    "print('='*15)\n",
    "for query in questions:\n",
    "    print(bot.invoke(query)['text'])\n",
    "    print('='*15)\n"
   ]
  },
  {
   "cell_type": "code",
   "execution_count": null,
   "id": "6613497f",
   "metadata": {},
   "outputs": [],
   "source": []
  }
 ],
 "metadata": {
  "kernelspec": {
   "display_name": "Python 3",
   "language": "python",
   "name": "python3"
  },
  "language_info": {
   "codemirror_mode": {
    "name": "ipython",
    "version": 3
   },
   "file_extension": ".py",
   "mimetype": "text/x-python",
   "name": "python",
   "nbconvert_exporter": "python",
   "pygments_lexer": "ipython3",
   "version": "3.13.5"
  }
 },
 "nbformat": 4,
 "nbformat_minor": 5
}
