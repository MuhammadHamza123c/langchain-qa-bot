{
 "cells": [
  {
   "cell_type": "code",
   "execution_count": 3,
   "id": "39dee957",
   "metadata": {},
   "outputs": [
    {
     "name": "stdout",
     "output_type": "stream",
     "text": [
      "HARDCODE_GROQ\n"
     ]
    }
   ],
   "source": [
    "print(\"HARDCODE_GROQ\")"
   ]
  },
  {
   "cell_type": "code",
   "execution_count": 4,
   "id": "13af1006",
   "metadata": {},
   "outputs": [
    {
     "data": {
      "text/plain": [
       "True"
      ]
     },
     "execution_count": 4,
     "metadata": {},
     "output_type": "execute_result"
    }
   ],
   "source": [
    "from langchain_groq import ChatGroq\n",
    "from dotenv import load_dotenv\n",
    "import os\n",
    "load_dotenv()"
   ]
  },
  {
   "cell_type": "code",
   "execution_count": 5,
   "id": "adc19248",
   "metadata": {},
   "outputs": [],
   "source": [
    "GROQ_API_KEY=os.getenv(\"GROQ_API_KEY\")\n"
   ]
  },
  {
   "cell_type": "code",
   "execution_count": 6,
   "id": "ceede264",
   "metadata": {},
   "outputs": [],
   "source": [
    "llm=ChatGroq(\n",
    "    model=\"meta-llama/llama-4-scout-17b-16e-instruct\",\n",
    "    temperature=0.3\n",
    ")"
   ]
  },
  {
   "cell_type": "code",
   "execution_count": 7,
   "id": "e96f9c62",
   "metadata": {},
   "outputs": [
    {
     "data": {
      "text/plain": [
       "\"I'm doing well, thanks for asking! I'm just a language model, I don't have feelings like humans do, but I'm always happy to chat with you. How about you? How's your day going so far?\""
      ]
     },
     "execution_count": 7,
     "metadata": {},
     "output_type": "execute_result"
    }
   ],
   "source": [
    "llm.invoke('Hey,How are you?').content"
   ]
  },
  {
   "cell_type": "code",
   "execution_count": 8,
   "id": "5aef41cf",
   "metadata": {},
   "outputs": [],
   "source": [
    "from langchain.prompts import PromptTemplate\n",
    "template=\"Answer the following question clearly and concisely: {question}\"\n",
    "prompt=PromptTemplate(template=template,input_variables=['question'])\n"
   ]
  },
  {
   "cell_type": "code",
   "execution_count": 9,
   "id": "b60415c8",
   "metadata": {},
   "outputs": [],
   "source": [
    "from langchain.chains import LLMChain\n"
   ]
  },
  {
   "cell_type": "code",
   "execution_count": 10,
   "id": "85961be9",
   "metadata": {},
   "outputs": [
    {
     "name": "stderr",
     "output_type": "stream",
     "text": [
      "C:\\Users\\HP\\AppData\\Local\\Temp\\ipykernel_980\\2286740057.py:1: LangChainDeprecationWarning: The class `LLMChain` was deprecated in LangChain 0.1.17 and will be removed in 1.0. Use :meth:`~RunnableSequence, e.g., `prompt | llm`` instead.\n",
      "  bot=LLMChain(llm=llm,prompt=prompt)\n"
     ]
    }
   ],
   "source": [
    "bot=LLMChain(llm=llm,prompt=prompt)"
   ]
  },
  {
   "cell_type": "code",
   "execution_count": 11,
   "id": "da5ae5b6",
   "metadata": {},
   "outputs": [],
   "source": [
    "questions = [\n",
    "    \"What is LangChain?\",\n",
    "    \"Who created Python?\",\n",
    "    \"What is AI?\"\n",
    "]"
   ]
  },
  {
   "cell_type": "code",
   "execution_count": 12,
   "id": "a7f57947",
   "metadata": {},
   "outputs": [
    {
     "name": "stdout",
     "output_type": "stream",
     "text": [
      "---------------\n",
      "**LangChain** is an open-source framework designed to help developers build applications powered by large language models (LLMs) like LLaMA, PaLM, and others. It provides a set of tools and APIs to simplify the integration of LLMs into various applications, enabling features such as:\n",
      "\n",
      "* Text generation and manipulation\n",
      "* Conversational interfaces\n",
      "* Question-answering systems\n",
      "* and more\n",
      "\n",
      "LangChain aims to make it easier for developers to harness the capabilities of LLMs and create innovative applications.\n",
      "---------------\n",
      "**Guido van Rossum** created Python in the late 1980s. He began working on the language in December 1989 and released the first version, Python 0.9.1, in February 1991.\n",
      "---------------\n",
      "**Artificial Intelligence (AI)** refers to the development of computer systems that can perform tasks that typically require human intelligence, such as:\n",
      "\n",
      "* Learning\n",
      "* Problem-solving\n",
      "* Reasoning\n",
      "* Perception\n",
      "* Understanding language\n",
      "\n",
      "These systems use algorithms and data to make decisions, often independently, and can improve their performance over time through machine learning. AI aims to create machines that can think and act like humans, or even surpass human capabilities in certain areas.\n",
      "---------------\n"
     ]
    }
   ],
   "source": [
    "print('-'*15)\n",
    "for query in questions:\n",
    "    print(bot.invoke(query)['text'])\n",
    "    print('-'*15)\n"
   ]
  }
 ],
 "metadata": {
  "kernelspec": {
   "display_name": "Python 3",
   "language": "python",
   "name": "python3"
  },
  "language_info": {
   "codemirror_mode": {
    "name": "ipython",
    "version": 3
   },
   "file_extension": ".py",
   "mimetype": "text/x-python",
   "name": "python",
   "nbconvert_exporter": "python",
   "pygments_lexer": "ipython3",
   "version": "3.13.5"
  }
 },
 "nbformat": 4,
 "nbformat_minor": 5
}
